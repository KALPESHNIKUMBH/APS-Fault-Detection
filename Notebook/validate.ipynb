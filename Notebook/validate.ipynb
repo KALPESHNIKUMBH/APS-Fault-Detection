{
 "cells": [
  {
   "cell_type": "code",
   "execution_count": 3,
   "metadata": {},
   "outputs": [],
   "source": [
    "import numpy as np\n",
    "from scipy import stats\n",
    "rng = np.random.default_rng()\n",
    "target1 = stats.uniform.rvs(size=100, random_state=rng)\n",
    "target2 = stats.norm.rvs(size=110, random_state=rng)\n",
    "response = stats.ks_2samp(target1, target2)"
   ]
  },
  {
   "cell_type": "code",
   "execution_count": 4,
   "metadata": {},
   "outputs": [
    {
     "data": {
      "text/plain": [
       "array([0.31443494, 0.77572883, 0.3106719 , 0.50637425, 0.63657552,\n",
       "       0.50844501, 0.82281201, 0.16807361, 0.0405723 , 0.47713503,\n",
       "       0.4596956 , 0.875727  , 0.25344108, 0.30683956, 0.14873025,\n",
       "       0.98398938, 0.69525783, 0.37609656, 0.38288196, 0.75365678,\n",
       "       0.89605587, 0.15667733, 0.65106719, 0.98981057, 0.59243647,\n",
       "       0.0924616 , 0.25516739, 0.31233377, 0.15419522, 0.95800239,\n",
       "       0.01112059, 0.70559523, 0.34859629, 0.76036983, 0.99735324,\n",
       "       0.53970077, 0.54470478, 0.16840595, 0.72229024, 0.95559082,\n",
       "       0.40261287, 0.88263878, 0.94781652, 0.05762544, 0.63589365,\n",
       "       0.3553871 , 0.0031107 , 0.69995268, 0.27559466, 0.5919955 ,\n",
       "       0.19041588, 0.72066895, 0.32436073, 0.57142674, 0.0274256 ,\n",
       "       0.41747699, 0.71426302, 0.76642528, 0.35347465, 0.93771456,\n",
       "       0.52896189, 0.35892935, 0.24779456, 0.44399539, 0.4044586 ,\n",
       "       0.99691486, 0.9889862 , 0.85048437, 0.73585856, 0.30515336,\n",
       "       0.04738547, 0.4554296 , 0.38739984, 0.05639373, 0.62945511,\n",
       "       0.47444598, 0.85184891, 0.79219439, 0.61312051, 0.24399084,\n",
       "       0.35473269, 0.53239427, 0.61080032, 0.64329001, 0.30320275,\n",
       "       0.80043216, 0.38180351, 0.91671117, 0.78394959, 0.25714873,\n",
       "       0.71760227, 0.352347  , 0.66064955, 0.94279351, 0.15967016,\n",
       "       0.29693268, 0.95345213, 0.77086684, 0.79418441, 0.7295344 ])"
      ]
     },
     "execution_count": 4,
     "metadata": {},
     "output_type": "execute_result"
    }
   ],
   "source": [
    "target1"
   ]
  },
  {
   "cell_type": "code",
   "execution_count": 5,
   "metadata": {},
   "outputs": [
    {
     "data": {
      "text/plain": [
       "array([-0.34590497, -0.53549221,  0.96281477, -0.42941156, -0.71368859,\n",
       "       -0.07759275,  0.23138931, -0.74046783,  0.44365845, -1.60584538,\n",
       "        0.42061883,  0.67593633,  0.55296952, -0.37861503,  1.7625852 ,\n",
       "        1.67006201, -1.06822215, -0.12146182,  0.37781317,  1.75342025,\n",
       "        0.60535754,  0.75057451,  0.50881202,  1.56198887, -0.73118345,\n",
       "       -0.18900462,  0.09093672,  1.18505467,  0.77854869, -0.08239122,\n",
       "       -1.20812547, -0.07230009, -1.10801656,  0.74192407, -0.89281964,\n",
       "        0.59059076,  0.35106934, -1.62187324, -0.26960426, -0.89127254,\n",
       "        0.31747316,  0.32752647, -0.16094538, -0.1588371 ,  3.05783632,\n",
       "       -0.33220925, -1.22429367, -1.57733896, -0.22558716, -0.25769993,\n",
       "        0.1155292 , -1.09775539, -0.28125429,  0.96512742, -1.62920042,\n",
       "        1.05784168, -0.28881694, -1.7994558 , -1.52074935,  0.34438302,\n",
       "       -0.48565385, -1.84173009,  0.46397966,  0.98399314,  0.7007749 ,\n",
       "        0.30053092,  1.26158094, -2.06697476,  0.57326073,  0.30072357,\n",
       "       -0.29151801,  0.34753523, -1.63965282, -1.12358236,  0.32577442,\n",
       "       -1.24123725,  1.15595681, -0.57512792,  0.19073684,  0.54464711,\n",
       "        1.58043961,  1.25910906, -1.26239911,  0.48412197,  0.36726785,\n",
       "       -2.32752649,  0.23281675,  0.23064384,  0.40698682, -0.26531695,\n",
       "        0.85834534,  1.12412033,  0.96325762, -0.31967423,  1.17263988,\n",
       "        0.90940258,  0.32655942,  2.52383183, -0.77217728, -0.48899855,\n",
       "       -0.13117996,  0.90602437,  1.02372856, -1.47805519,  1.32144673,\n",
       "        0.14249583, -0.08168744,  0.48736744, -0.9285107 ,  1.99821393])"
      ]
     },
     "execution_count": 5,
     "metadata": {},
     "output_type": "execute_result"
    }
   ],
   "source": [
    "target2"
   ]
  },
  {
   "cell_type": "code",
   "execution_count": 6,
   "metadata": {},
   "outputs": [
    {
     "data": {
      "text/plain": [
       "1.041209e-10"
      ]
     },
     "execution_count": 6,
     "metadata": {},
     "output_type": "execute_result"
    }
   ],
   "source": [
    "round(response.pvalue,16)"
   ]
  },
  {
   "cell_type": "code",
   "execution_count": null,
   "metadata": {},
   "outputs": [],
   "source": [
    "\n",
    "#Anomly in my dataset\n",
    "# \n",
    "# 1.High Null Value\n",
    "2. Missing COlumns\n",
    "3. Outlier\n",
    "4. Categorical: \n",
    "Gender--> MALE, FEMALE,OTHER"
   ]
  },
  {
   "cell_type": "code",
   "execution_count": 8,
   "metadata": {},
   "outputs": [],
   "source": [
    "import pandas as pd"
   ]
  },
  {
   "cell_type": "code",
   "execution_count": 9,
   "metadata": {},
   "outputs": [
    {
     "name": "stdout",
     "output_type": "stream",
     "text": [
      "1 4\n",
      "2 5\n",
      "3 6\n",
      "4 7\n"
     ]
    }
   ],
   "source": [
    "l1=[1,2,3,4]\n",
    "l2=[4,5,6,7]\n",
    "\n",
    "for l1_val,l2_val in zip(l1,l2):\n",
    "    print(l1_val,l2_val)"
   ]
  },
  {
   "cell_type": "code",
   "execution_count": 10,
   "metadata": {},
   "outputs": [],
   "source": [
    "df = pd.read_csv(\"/config/workspace/artifact/02222023__195818/data_ingestion/dataset/train.csv\")"
   ]
  },
  {
   "cell_type": "code",
   "execution_count": 11,
   "metadata": {},
   "outputs": [
    {
     "data": {
      "text/plain": [
       "0"
      ]
     },
     "execution_count": 11,
     "metadata": {},
     "output_type": "execute_result"
    }
   ],
   "source": [
    "len(df.iloc[:,[0]].drop(\"class\",axis=1).columns)"
   ]
  },
  {
   "cell_type": "code",
   "execution_count": 12,
   "metadata": {},
   "outputs": [],
   "source": [
    "from glob import glob"
   ]
  },
  {
   "cell_type": "code",
   "execution_count": 13,
   "metadata": {},
   "outputs": [
    {
     "data": {
      "text/plain": [
       "[]"
      ]
     },
     "execution_count": 13,
     "metadata": {},
     "output_type": "execute_result"
    }
   ],
   "source": [
    "glob(\"/config/workspace/saved_models/1/**/*.pkl\")"
   ]
  },
  {
   "cell_type": "code",
   "execution_count": 14,
   "metadata": {},
   "outputs": [
    {
     "data": {
      "text/plain": [
       "'1'"
      ]
     },
     "execution_count": 14,
     "metadata": {},
     "output_type": "execute_result"
    }
   ],
   "source": [
    "import os\n",
    "\n",
    "os.path.basename(\"saved_mode/1\")"
   ]
  },
  {
   "cell_type": "code",
   "execution_count": null,
   "metadata": {},
   "outputs": [],
   "source": []
  }
 ],
 "metadata": {
  "kernelspec": {
   "display_name": "Python 3.8.10 64-bit",
   "language": "python",
   "name": "python3"
  },
  "language_info": {
   "codemirror_mode": {
    "name": "ipython",
    "version": 3
   },
   "file_extension": ".py",
   "mimetype": "text/x-python",
   "name": "python",
   "nbconvert_exporter": "python",
   "pygments_lexer": "ipython3",
   "version": "3.8.10"
  },
  "orig_nbformat": 4,
  "vscode": {
   "interpreter": {
    "hash": "e7370f93d1d0cde622a1f8e1c04877d8463912d04d973331ad4851f04de6915a"
   }
  }
 },
 "nbformat": 4,
 "nbformat_minor": 2
}
